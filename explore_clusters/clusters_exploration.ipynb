{
 "cells": [
  {
   "cell_type": "code",
   "execution_count": null,
   "id": "91ab9243",
   "metadata": {},
   "outputs": [],
   "source": []
  },
  {
   "cell_type": "code",
   "execution_count": 1,
   "id": "68aa880d",
   "metadata": {},
   "outputs": [],
   "source": [
    "import pandas as pd\n",
    "import numpy as np\n",
    "import hdbscan\n",
    "import umap"
   ]
  },
  {
   "cell_type": "code",
   "execution_count": 2,
   "id": "4992a39c",
   "metadata": {},
   "outputs": [
    {
     "name": "stdout",
     "output_type": "stream",
     "text": [
      "Requirement already satisfied: hdbscan in /Users/edrid/opt/miniconda3/lib/python3.8/site-packages (0.8.27)\n",
      "Requirement already satisfied: numpy>=1.16 in /Users/edrid/opt/miniconda3/lib/python3.8/site-packages (from hdbscan) (1.20.3)\n",
      "Requirement already satisfied: scikit-learn>=0.20 in /Users/edrid/opt/miniconda3/lib/python3.8/site-packages (from hdbscan) (1.0.1)\n",
      "Requirement already satisfied: joblib>=1.0 in /Users/edrid/opt/miniconda3/lib/python3.8/site-packages (from hdbscan) (1.1.0)\n",
      "Requirement already satisfied: cython>=0.27 in /Users/edrid/opt/miniconda3/lib/python3.8/site-packages (from hdbscan) (0.29.24)\n",
      "Requirement already satisfied: scipy>=1.0 in /Users/edrid/opt/miniconda3/lib/python3.8/site-packages (from hdbscan) (1.7.3)\n",
      "Requirement already satisfied: six in /Users/edrid/opt/miniconda3/lib/python3.8/site-packages (from hdbscan) (1.16.0)\n",
      "Requirement already satisfied: threadpoolctl>=2.0.0 in /Users/edrid/opt/miniconda3/lib/python3.8/site-packages (from scikit-learn>=0.20->hdbscan) (3.0.0)\n",
      "Requirement already satisfied: umap-learn in /Users/edrid/opt/miniconda3/lib/python3.8/site-packages (0.5.2)\n",
      "Requirement already satisfied: numba>=0.49 in /Users/edrid/opt/miniconda3/lib/python3.8/site-packages (from umap-learn) (0.54.1)\n",
      "Requirement already satisfied: numpy>=1.17 in /Users/edrid/opt/miniconda3/lib/python3.8/site-packages (from umap-learn) (1.20.3)\n",
      "Requirement already satisfied: tqdm in /Users/edrid/opt/miniconda3/lib/python3.8/site-packages (from umap-learn) (4.62.3)\n",
      "Requirement already satisfied: scikit-learn>=0.22 in /Users/edrid/opt/miniconda3/lib/python3.8/site-packages (from umap-learn) (1.0.1)\n",
      "Requirement already satisfied: scipy>=1.0 in /Users/edrid/opt/miniconda3/lib/python3.8/site-packages (from umap-learn) (1.7.3)\n",
      "Requirement already satisfied: pynndescent>=0.5 in /Users/edrid/opt/miniconda3/lib/python3.8/site-packages (from umap-learn) (0.5.5)\n",
      "Requirement already satisfied: setuptools in /Users/edrid/opt/miniconda3/lib/python3.8/site-packages (from numba>=0.49->umap-learn) (52.0.0.post20210125)\n",
      "Requirement already satisfied: llvmlite<0.38,>=0.37.0rc1 in /Users/edrid/opt/miniconda3/lib/python3.8/site-packages (from numba>=0.49->umap-learn) (0.37.0)\n",
      "Requirement already satisfied: joblib>=0.11 in /Users/edrid/opt/miniconda3/lib/python3.8/site-packages (from pynndescent>=0.5->umap-learn) (1.1.0)\n",
      "Requirement already satisfied: threadpoolctl>=2.0.0 in /Users/edrid/opt/miniconda3/lib/python3.8/site-packages (from scikit-learn>=0.22->umap-learn) (3.0.0)\n"
     ]
    }
   ],
   "source": [
    "!pip install hdbscan\n",
    "!pip install umap-learn"
   ]
  },
  {
   "cell_type": "code",
   "execution_count": 3,
   "id": "ba4e24c0",
   "metadata": {},
   "outputs": [],
   "source": [
    "test_df = pd.read_csv(\"data/test_nasi_metadata.csv\")\n",
    "train_df = pd.read_csv(\"data/train_nasi_metadata.csv\")"
   ]
  },
  {
   "cell_type": "code",
   "execution_count": 4,
   "id": "7e3e36cb",
   "metadata": {},
   "outputs": [],
   "source": [
    "test_latents = np.load(\"data/test_nasi_latents.npy\")\n",
    "train_latents = np.load(\"data/train_nasi_latents.npy\")"
   ]
  },
  {
   "cell_type": "code",
   "execution_count": 5,
   "id": "7f4ec387",
   "metadata": {},
   "outputs": [
    {
     "name": "stdout",
     "output_type": "stream",
     "text": [
      "Test latents shape: (4319, 16), train latents shape: (16146, 16)\n"
     ]
    }
   ],
   "source": [
    "print(f\"Test latents shape: {test_latents.shape}, train latents shape: {train_latents.shape}\")"
   ]
  },
  {
   "cell_type": "code",
   "execution_count": 6,
   "id": "43eabee2",
   "metadata": {},
   "outputs": [
    {
     "name": "stdout",
     "output_type": "stream",
     "text": [
      "Test dataframe shape: (4319, 5), train dataframe shape: (16146, 5)\n"
     ]
    }
   ],
   "source": [
    "print(f\"Test dataframe shape: {test_df.shape}, train dataframe shape: {train_df.shape}\")\n",
    "assert test_df.shape[0] == test_latents.shape[0]\n",
    "assert train_df.shape[0] == train_latents.shape[0]"
   ]
  },
  {
   "cell_type": "code",
   "execution_count": 7,
   "id": "7e9dcc5e",
   "metadata": {},
   "outputs": [
    {
     "data": {
      "text/html": [
       "<div>\n",
       "<style scoped>\n",
       "    .dataframe tbody tr th:only-of-type {\n",
       "        vertical-align: middle;\n",
       "    }\n",
       "\n",
       "    .dataframe tbody tr th {\n",
       "        vertical-align: top;\n",
       "    }\n",
       "\n",
       "    .dataframe thead th {\n",
       "        text-align: right;\n",
       "    }\n",
       "</style>\n",
       "<table border=\"1\" class=\"dataframe\">\n",
       "  <thead>\n",
       "    <tr style=\"text-align: right;\">\n",
       "      <th></th>\n",
       "      <th>Unnamed: 0</th>\n",
       "      <th>individual_id</th>\n",
       "      <th>expression_id</th>\n",
       "      <th>individual_name</th>\n",
       "      <th>expression_name</th>\n",
       "    </tr>\n",
       "  </thead>\n",
       "  <tbody>\n",
       "    <tr>\n",
       "      <th>5</th>\n",
       "      <td>5</td>\n",
       "      <td>0</td>\n",
       "      <td>0</td>\n",
       "      <td>FaceTalk_170908_03277_TA</td>\n",
       "      <td>lips_up</td>\n",
       "    </tr>\n",
       "  </tbody>\n",
       "</table>\n",
       "</div>"
      ],
      "text/plain": [
       "   Unnamed: 0  individual_id  expression_id           individual_name  \\\n",
       "5           5              0              0  FaceTalk_170908_03277_TA   \n",
       "\n",
       "  expression_name  \n",
       "5         lips_up  "
      ]
     },
     "execution_count": 7,
     "metadata": {},
     "output_type": "execute_result"
    }
   ],
   "source": [
    "test_df.iloc[[5]]"
   ]
  },
  {
   "cell_type": "code",
   "execution_count": 8,
   "id": "6b16c281",
   "metadata": {},
   "outputs": [],
   "source": [
    "train_df.iloc[[5]]\n",
    "all_df = pd.concat([train_df, test_df])"
   ]
  },
  {
   "cell_type": "code",
   "execution_count": 9,
   "id": "fba136d9",
   "metadata": {},
   "outputs": [
    {
     "data": {
      "text/plain": [
       "(20465, 5)"
      ]
     },
     "execution_count": 9,
     "metadata": {},
     "output_type": "execute_result"
    }
   ],
   "source": [
    "all_df.shape"
   ]
  },
  {
   "cell_type": "code",
   "execution_count": 10,
   "id": "497f2755",
   "metadata": {},
   "outputs": [],
   "source": [
    "all_latents = np.vstack((train_latents, test_latents))"
   ]
  },
  {
   "cell_type": "code",
   "execution_count": 11,
   "id": "2419ac9d",
   "metadata": {},
   "outputs": [],
   "source": [
    "assert (all_latents[1] == train_latents[1]).all()"
   ]
  },
  {
   "cell_type": "markdown",
   "id": "9cb8b142",
   "metadata": {},
   "source": [
    "I do clustering here, instead of loading preprocessed data"
   ]
  },
  {
   "cell_type": "markdown",
   "id": "506f2720",
   "metadata": {},
   "source": [
    "Silhouette method for number of clusters"
   ]
  },
  {
   "cell_type": "code",
   "execution_count": 12,
   "id": "1c9a275b",
   "metadata": {},
   "outputs": [],
   "source": [
    "from sklearn.metrics import silhouette_score\n",
    "from sklearn.cluster import KMeans\n",
    "from tqdm import tqdm"
   ]
  },
  {
   "cell_type": "code",
   "execution_count": null,
   "id": "44710e24",
   "metadata": {},
   "outputs": [],
   "source": [
    "\n",
    "sil = []\n",
    "kmax = 150\n",
    "\n",
    "Sum_of_squared_distances = [] #for elbow method\n",
    "ks = range(2, kmax+1)\n",
    "# dissimilarity would not be defined for a single cluster, thus, minimum number of clusters should be 2\n",
    "for k in tqdm(ks):\n",
    "  kmeans = KMeans(n_clusters = k).fit(all_latents)\n",
    "  labels = kmeans.labels_\n",
    "  sil.append(silhouette_score(all_latents, labels, metric = 'euclidean'))\n",
    "  Sum_of_squared_distances.append(kmeans.inertia_) #for elbow method"
   ]
  },
  {
   "cell_type": "code",
   "execution_count": null,
   "id": "6256c54b",
   "metadata": {},
   "outputs": [],
   "source": [
    "max(labels)\n",
    "plt.plot(range(2, kmax+1),sil, scalex=True, scaley=True, data=None)\n",
    "plt.title(\"Silouhette score\")\n"
   ]
  },
  {
   "cell_type": "code",
   "execution_count": 130,
   "id": "5097eb79",
   "metadata": {},
   "outputs": [],
   "source": [
    "  cluster = KMeans(n_clusters = 12).fit(all_latents)\n",
    "  #labels = kmeans.labels_"
   ]
  },
  {
   "cell_type": "markdown",
   "id": "8c93ffec",
   "metadata": {},
   "source": [
    "Elbow method for number of clusters"
   ]
  },
  {
   "cell_type": "code",
   "execution_count": null,
   "id": "1b817c47",
   "metadata": {},
   "outputs": [],
   "source": [
    "len(Sum_of_squared_distances)"
   ]
  },
  {
   "cell_type": "code",
   "execution_count": null,
   "id": "f73f9986",
   "metadata": {},
   "outputs": [],
   "source": [
    "len(ks)"
   ]
  },
  {
   "cell_type": "code",
   "execution_count": null,
   "id": "15819d1b",
   "metadata": {},
   "outputs": [],
   "source": [
    "\n",
    "plt.plot(ks, Sum_of_squared_distances)\n",
    "#plt.plot(range(2, kmax+1),Sum_of_squared_distances, scalex=True, scaley=True, data=None)\n",
    "\n",
    "plt.xlabel(\"Values of K\") \n",
    "plt.ylabel(\"Sum of squared distances/Inertia\") \n",
    "plt.title(\"Elbow Method For Optimal k\")\n",
    "plt.show()"
   ]
  },
  {
   "cell_type": "code",
   "execution_count": null,
   "id": "6a7e1533",
   "metadata": {},
   "outputs": [],
   "source": []
  },
  {
   "cell_type": "code",
   "execution_count": 111,
   "id": "14c7acbc",
   "metadata": {},
   "outputs": [],
   "source": [
    "cluster = hdbscan.HDBSCAN(min_cluster_size=200,\n",
    "                          metric='euclidean',                      \n",
    "                          cluster_selection_method='eom').fit(all_latents)\n",
    "#for now it was trial and error, however the correct \"minclustersize\" can be calculated using some trials"
   ]
  },
  {
   "cell_type": "code",
   "execution_count": 112,
   "id": "db4934e0",
   "metadata": {},
   "outputs": [
    {
     "data": {
      "text/plain": [
       "11"
      ]
     },
     "execution_count": 112,
     "metadata": {},
     "output_type": "execute_result"
    }
   ],
   "source": [
    "max(cluster.labels_)"
   ]
  },
  {
   "cell_type": "code",
   "execution_count": null,
   "id": "f8d80125",
   "metadata": {},
   "outputs": [],
   "source": []
  },
  {
   "cell_type": "code",
   "execution_count": 131,
   "id": "8a8d8bea",
   "metadata": {},
   "outputs": [
    {
     "data": {
      "text/plain": [
       "Text(0.5, 1.0, 'Visualization of one instance of clustering through HDBSCAN')"
      ]
     },
     "execution_count": 131,
     "metadata": {},
     "output_type": "execute_result"
    },
    {
     "data": {
      "image/png": "[encoded data removed]",
      "text/plain": [
       "<Figure size 720x504 with 2 Axes>"
      ]
     },
     "metadata": {
      "needs_background": "light"
     },
     "output_type": "display_data"
    }
   ],
   "source": [
    "import matplotlib.pyplot as plt\n",
    "import umap.umap_ as umap\n",
    "umap_data = umap.UMAP(n_neighbors=100, n_components=2, min_dist=0.0, metric='cosine').fit_transform(all_latents)\n",
    "result = pd.DataFrame(umap_data, columns=['x', 'y'])\n",
    "result['labels'] = cluster.labels_\n",
    "\n",
    "# Visualize clusters\n",
    "fig, ax = plt.subplots(figsize=(10, 7))\n",
    "outliers = result.loc[result.labels == -1, :]\n",
    "clustered = result.loc[result.labels != -1, :]\n",
    "plt.scatter(outliers.x, outliers.y, color='#BDBDBD', s=0.05)\n",
    "plt.scatter(clustered.x, clustered.y, c=clustered.labels, s=0.05, cmap='hsv_r')\n",
    "plt.colorbar()\n",
    "plt.title(\"Visualization of one instance of clustering through HDBSCAN\")"
   ]
  },
  {
   "cell_type": "markdown",
   "id": "1bf5ed7c",
   "metadata": {},
   "source": [
    "Now I try clustering with dimensionality reduction"
   ]
  },
  {
   "cell_type": "code",
   "execution_count": 114,
   "id": "c7fdc420",
   "metadata": {},
   "outputs": [
    {
     "data": {
      "text/plain": [
       "\"umap_embeddings = umap.UMAP(n_neighbors=100, \\n                            n_components=5, \\n                            metric='cosine').fit_transform(all_latents)\\n\\ncluster = hdbscan.HDBSCAN(min_cluster_size=60,\\n                          metric='euclidean',                      \\n                          cluster_selection_method='eom').fit(umap_embeddings)\""
      ]
     },
     "execution_count": 114,
     "metadata": {},
     "output_type": "execute_result"
    }
   ],
   "source": [
    "'''umap_embeddings = umap.UMAP(n_neighbors=100, \n",
    "                            n_components=5, \n",
    "                            metric='cosine').fit_transform(all_latents)\n",
    "\n",
    "cluster = hdbscan.HDBSCAN(min_cluster_size=60,\n",
    "                          metric='euclidean',                      \n",
    "                          cluster_selection_method='eom').fit(umap_embeddings)'''"
   ]
  },
  {
   "cell_type": "code",
   "execution_count": 132,
   "id": "dc67271e",
   "metadata": {},
   "outputs": [
    {
     "data": {
      "text/plain": [
       "11"
      ]
     },
     "execution_count": 132,
     "metadata": {},
     "output_type": "execute_result"
    }
   ],
   "source": [
    "max(cluster.labels_)"
   ]
  },
  {
   "cell_type": "markdown",
   "id": "efc0cb82",
   "metadata": {},
   "source": [
    "**What is the algorithm clustering?**"
   ]
  },
  {
   "cell_type": "markdown",
   "id": "d093ac43",
   "metadata": {},
   "source": [
    "**Q: if k = 12, or minimum cluster size is s.t. clusters = 12 in hdbscan, will the clusters correspond to the different individuals?**"
   ]
  },
  {
   "cell_type": "code",
   "execution_count": 116,
   "id": "ac770fc8",
   "metadata": {},
   "outputs": [],
   "source": [
    "#all_df.insert(1, \"clust_labels\", cluster.labels_)"
   ]
  },
  {
   "cell_type": "code",
   "execution_count": 117,
   "id": "8968708a",
   "metadata": {},
   "outputs": [
    {
     "data": {
      "text/html": [
       "<div>\n",
       "<style scoped>\n",
       "    .dataframe tbody tr th:only-of-type {\n",
       "        vertical-align: middle;\n",
       "    }\n",
       "\n",
       "    .dataframe tbody tr th {\n",
       "        vertical-align: top;\n",
       "    }\n",
       "\n",
       "    .dataframe thead th {\n",
       "        text-align: right;\n",
       "    }\n",
       "</style>\n",
       "<table border=\"1\" class=\"dataframe\">\n",
       "  <thead>\n",
       "    <tr style=\"text-align: right;\">\n",
       "      <th></th>\n",
       "      <th>Unnamed: 0</th>\n",
       "      <th>individual_id</th>\n",
       "      <th>expression_id</th>\n",
       "      <th>individual_name</th>\n",
       "      <th>expression_name</th>\n",
       "    </tr>\n",
       "  </thead>\n",
       "  <tbody>\n",
       "    <tr>\n",
       "      <th>4219</th>\n",
       "      <td>4219</td>\n",
       "      <td>2</td>\n",
       "      <td>11</td>\n",
       "      <td>FaceTalk_170725_00137_TA</td>\n",
       "      <td>mouth_middle</td>\n",
       "    </tr>\n",
       "    <tr>\n",
       "      <th>4220</th>\n",
       "      <td>4220</td>\n",
       "      <td>2</td>\n",
       "      <td>11</td>\n",
       "      <td>FaceTalk_170725_00137_TA</td>\n",
       "      <td>mouth_middle</td>\n",
       "    </tr>\n",
       "    <tr>\n",
       "      <th>4221</th>\n",
       "      <td>4221</td>\n",
       "      <td>2</td>\n",
       "      <td>11</td>\n",
       "      <td>FaceTalk_170725_00137_TA</td>\n",
       "      <td>mouth_middle</td>\n",
       "    </tr>\n",
       "    <tr>\n",
       "      <th>4222</th>\n",
       "      <td>4222</td>\n",
       "      <td>2</td>\n",
       "      <td>11</td>\n",
       "      <td>FaceTalk_170725_00137_TA</td>\n",
       "      <td>mouth_middle</td>\n",
       "    </tr>\n",
       "    <tr>\n",
       "      <th>4223</th>\n",
       "      <td>4223</td>\n",
       "      <td>2</td>\n",
       "      <td>11</td>\n",
       "      <td>FaceTalk_170725_00137_TA</td>\n",
       "      <td>mouth_middle</td>\n",
       "    </tr>\n",
       "    <tr>\n",
       "      <th>...</th>\n",
       "      <td>...</td>\n",
       "      <td>...</td>\n",
       "      <td>...</td>\n",
       "      <td>...</td>\n",
       "      <td>...</td>\n",
       "    </tr>\n",
       "    <tr>\n",
       "      <th>4314</th>\n",
       "      <td>4314</td>\n",
       "      <td>2</td>\n",
       "      <td>11</td>\n",
       "      <td>FaceTalk_170725_00137_TA</td>\n",
       "      <td>mouth_middle</td>\n",
       "    </tr>\n",
       "    <tr>\n",
       "      <th>4315</th>\n",
       "      <td>4315</td>\n",
       "      <td>2</td>\n",
       "      <td>11</td>\n",
       "      <td>FaceTalk_170725_00137_TA</td>\n",
       "      <td>mouth_middle</td>\n",
       "    </tr>\n",
       "    <tr>\n",
       "      <th>4316</th>\n",
       "      <td>4316</td>\n",
       "      <td>2</td>\n",
       "      <td>11</td>\n",
       "      <td>FaceTalk_170725_00137_TA</td>\n",
       "      <td>mouth_middle</td>\n",
       "    </tr>\n",
       "    <tr>\n",
       "      <th>4317</th>\n",
       "      <td>4317</td>\n",
       "      <td>2</td>\n",
       "      <td>11</td>\n",
       "      <td>FaceTalk_170725_00137_TA</td>\n",
       "      <td>mouth_middle</td>\n",
       "    </tr>\n",
       "    <tr>\n",
       "      <th>4318</th>\n",
       "      <td>4318</td>\n",
       "      <td>2</td>\n",
       "      <td>11</td>\n",
       "      <td>FaceTalk_170725_00137_TA</td>\n",
       "      <td>mouth_middle</td>\n",
       "    </tr>\n",
       "  </tbody>\n",
       "</table>\n",
       "<p>100 rows × 5 columns</p>\n",
       "</div>"
      ],
      "text/plain": [
       "      Unnamed: 0  individual_id  expression_id           individual_name  \\\n",
       "4219        4219              2             11  FaceTalk_170725_00137_TA   \n",
       "4220        4220              2             11  FaceTalk_170725_00137_TA   \n",
       "4221        4221              2             11  FaceTalk_170725_00137_TA   \n",
       "4222        4222              2             11  FaceTalk_170725_00137_TA   \n",
       "4223        4223              2             11  FaceTalk_170725_00137_TA   \n",
       "...          ...            ...            ...                       ...   \n",
       "4314        4314              2             11  FaceTalk_170725_00137_TA   \n",
       "4315        4315              2             11  FaceTalk_170725_00137_TA   \n",
       "4316        4316              2             11  FaceTalk_170725_00137_TA   \n",
       "4317        4317              2             11  FaceTalk_170725_00137_TA   \n",
       "4318        4318              2             11  FaceTalk_170725_00137_TA   \n",
       "\n",
       "     expression_name  \n",
       "4219    mouth_middle  \n",
       "4220    mouth_middle  \n",
       "4221    mouth_middle  \n",
       "4222    mouth_middle  \n",
       "4223    mouth_middle  \n",
       "...              ...  \n",
       "4314    mouth_middle  \n",
       "4315    mouth_middle  \n",
       "4316    mouth_middle  \n",
       "4317    mouth_middle  \n",
       "4318    mouth_middle  \n",
       "\n",
       "[100 rows x 5 columns]"
      ]
     },
     "execution_count": 117,
     "metadata": {},
     "output_type": "execute_result"
    }
   ],
   "source": [
    "all_df.tail(100)"
   ]
  },
  {
   "cell_type": "code",
   "execution_count": 133,
   "id": "ca0121f8",
   "metadata": {},
   "outputs": [],
   "source": [
    "clusters_lists = [set() for i in range(max(cluster.labels_)+1)]\n",
    "individuals_lists = [set() for i in range(all_df[\"individual_id\"].max()+1)]\n",
    "#I want to make sets of clusters labels, individuals ids and more if necessary (e.g. expressions?)\n",
    "individuals_ids = all_df[\"individual_id\"].tolist()\n",
    "for i in range(len(cluster.labels_)):\n",
    "    if cluster.labels_[i] != -1:\n",
    "        clusters_lists[cluster.labels_[i]].add(i)\n",
    "    individuals_lists[individuals_ids[i]].add(i)"
   ]
  },
  {
   "cell_type": "code",
   "execution_count": 134,
   "id": "14ecf7db",
   "metadata": {},
   "outputs": [
    {
     "data": {
      "text/plain": [
       "11"
      ]
     },
     "execution_count": 134,
     "metadata": {},
     "output_type": "execute_result"
    }
   ],
   "source": [
    "max(cluster.labels_)"
   ]
  },
  {
   "cell_type": "code",
   "execution_count": 135,
   "id": "83d88e45",
   "metadata": {},
   "outputs": [
    {
     "data": {
      "image/png": "[encoded data removed]",
      "text/plain": [
       "<Figure size 432x288 with 1 Axes>"
      ]
     },
     "metadata": {
      "needs_background": "light"
     },
     "output_type": "display_data"
    }
   ],
   "source": [
    "arr = np.array(cluster.labels_)\n",
    "\n",
    "labels, counts = np.unique(arr, return_counts=True)\n",
    "plt.bar(labels, counts, align='center')\n",
    "plt.gca().set_xticks(labels)\n",
    "plt.show()"
   ]
  },
  {
   "cell_type": "code",
   "execution_count": 136,
   "id": "d668e7fb",
   "metadata": {},
   "outputs": [
    {
     "data": {
      "image/png": "[encoded data removed]",
      "text/plain": [
       "<Figure size 432x288 with 1 Axes>"
      ]
     },
     "metadata": {
      "needs_background": "light"
     },
     "output_type": "display_data"
    }
   ],
   "source": [
    "arr = np.array(individuals_ids)\n",
    "\n",
    "labels, counts = np.unique(arr, return_counts=True)\n",
    "plt.bar(labels, counts, align='center')\n",
    "plt.gca().set_xticks(labels)\n",
    "plt.show()"
   ]
  },
  {
   "cell_type": "code",
   "execution_count": 137,
   "id": "929d6215",
   "metadata": {},
   "outputs": [],
   "source": [
    "IoUs = np.zeros((len(clusters_lists), len(individuals_lists)))"
   ]
  },
  {
   "cell_type": "code",
   "execution_count": 138,
   "id": "f6cf5eda",
   "metadata": {},
   "outputs": [
    {
     "data": {
      "text/plain": [
       "(12, 12)"
      ]
     },
     "execution_count": 138,
     "metadata": {},
     "output_type": "execute_result"
    }
   ],
   "source": [
    "IoUs.shape"
   ]
  },
  {
   "cell_type": "code",
   "execution_count": 139,
   "id": "163d3f45",
   "metadata": {},
   "outputs": [],
   "source": [
    "for i in range(len(clusters_lists)):\n",
    "    for j in range(len(individuals_lists)): \n",
    "        intersection = len(individuals_lists[j].intersection(clusters_lists[i]))\n",
    "        union = len(individuals_lists[j].union(clusters_lists[i]))\n",
    "        IoUs[i][j] = intersection/union\n",
    "        #print(f\"IoU {i,j} is {intersection/union}\")\n"
   ]
  },
  {
   "cell_type": "code",
   "execution_count": 140,
   "id": "4d5fa033",
   "metadata": {},
   "outputs": [
    {
     "data": {
      "text/plain": [
       "Unnamed: 0                             2000\n",
       "individual_id                             1\n",
       "expression_id                             2\n",
       "individual_name    FaceTalk_170811_03275_TA\n",
       "expression_name                   bareteeth\n",
       "Name: 2000, dtype: object"
      ]
     },
     "execution_count": 140,
     "metadata": {},
     "output_type": "execute_result"
    }
   ],
   "source": [
    "test_df.iloc[2000]"
   ]
  },
  {
   "cell_type": "code",
   "execution_count": 141,
   "id": "360a8e5c",
   "metadata": {},
   "outputs": [
    {
     "data": {
      "text/plain": [
       "Text(33.0, 0.5, 'Cluster')"
      ]
     },
     "execution_count": 141,
     "metadata": {},
     "output_type": "execute_result"
    },
    {
     "data": {
      "image/png": "[encoded data removed]",
      "text/plain": [
       "<Figure size 432x288 with 2 Axes>"
      ]
     },
     "metadata": {
      "needs_background": "light"
     },
     "output_type": "display_data"
    }
   ],
   "source": [
    "import seaborn as sns\n",
    "plt.tick_params(axis='both', which='major', labelsize=10, labelbottom = False, bottom=False, top = False, labeltop=True)\n",
    "ax = sns.heatmap(IoUs, annot=True)\n",
    "ax.set_xlabel(\"Individual\")\n",
    "ax.set_ylabel(\"Cluster\")"
   ]
  },
  {
   "cell_type": "markdown",
   "id": "9f8652ad",
   "metadata": {},
   "source": [
    "Another trial could be doing the percentage of \"correct guesses\" \n",
    "i.e. for each element of a cluster, check if the element is in the individuals set, if so, increment and calculate percentage"
   ]
  },
  {
   "cell_type": "code",
   "execution_count": 142,
   "id": "766b0061",
   "metadata": {},
   "outputs": [],
   "source": [
    "percentages = np.zeros((len(clusters_lists), len(individuals_lists)))\n",
    "for i in range(len(clusters_lists)):\n",
    "    for j in range(len(individuals_lists)): \n",
    "        for cluster_item in clusters_lists[i]:\n",
    "            if cluster_item in individuals_lists[j]:\n",
    "                percentages[i][j] += 1\n",
    "        percentages[i][j] /= len(clusters_lists[i])\n",
    "        \n"
   ]
  },
  {
   "cell_type": "code",
   "execution_count": 143,
   "id": "f0f1fe54",
   "metadata": {},
   "outputs": [
    {
     "data": {
      "text/plain": [
       "Text(33.0, 0.5, 'Cluster')"
      ]
     },
     "execution_count": 143,
     "metadata": {},
     "output_type": "execute_result"
    },
    {
     "data": {
      "image/png": "[encoded data removed]",
      "text/plain": [
       "<Figure size 432x288 with 2 Axes>"
      ]
     },
     "metadata": {
      "needs_background": "light"
     },
     "output_type": "display_data"
    }
   ],
   "source": [
    "import seaborn as sns\n",
    "plt.tick_params(axis='both', which='major', labelsize=10, labelbottom = False, bottom=False, top = False, labeltop=True)\n",
    "ax = sns.heatmap(percentages, annot=True)\n",
    "ax.set_xlabel(\"Individual\")\n",
    "ax.set_ylabel(\"Cluster\")"
   ]
  },
  {
   "cell_type": "code",
   "execution_count": null,
   "id": "7eee3157",
   "metadata": {},
   "outputs": [],
   "source": []
  }
 ],
 "metadata": {
  "kernelspec": {
   "display_name": "Python 3 (ipykernel)",
   "language": "python",
   "name": "python3"
  },
  "language_info": {
   "codemirror_mode": {
    "name": "ipython",
    "version": 3
   },
   "file_extension": ".py",
   "mimetype": "text/x-python",
   "name": "python",
   "nbconvert_exporter": "python",
   "pygments_lexer": "ipython3",
   "version": "3.8.10"
  }
 },
 "nbformat": 4,
 "nbformat_minor": 5
}
