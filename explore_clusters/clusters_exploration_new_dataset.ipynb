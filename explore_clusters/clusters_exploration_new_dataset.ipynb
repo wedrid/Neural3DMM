{
 "cells": [
  {
   "cell_type": "code",
   "execution_count": 1,
   "id": "91ab9243",
   "metadata": {},
   "outputs": [
    {
     "ename": "NameError",
     "evalue": "name 'test_df' is not defined",
     "output_type": "error",
     "traceback": [
      "\u001b[0;31m---------------------------------------------------------------------------\u001b[0m",
      "\u001b[0;31mNameError\u001b[0m                                 Traceback (most recent call last)",
      "\u001b[0;32m/var/folders/pw/znmzx50x6gbgdxl84bpjc3sh0000gn/T/ipykernel_13587/662780479.py\u001b[0m in \u001b[0;36m<module>\u001b[0;34m\u001b[0m\n\u001b[1;32m      4\u001b[0m \u001b[0;31m# - individual 11\u001b[0m\u001b[0;34m\u001b[0m\u001b[0;34m\u001b[0m\u001b[0;34m\u001b[0m\u001b[0m\n\u001b[1;32m      5\u001b[0m \u001b[0;34m\u001b[0m\u001b[0m\n\u001b[0;32m----> 6\u001b[0;31m \u001b[0mtest_df\u001b[0m\u001b[0;34m.\u001b[0m\u001b[0miloc\u001b[0m\u001b[0;34m[\u001b[0m\u001b[0;36m2000\u001b[0m\u001b[0;34m]\u001b[0m\u001b[0;34m\u001b[0m\u001b[0;34m\u001b[0m\u001b[0m\n\u001b[0m",
      "\u001b[0;31mNameError\u001b[0m: name 'test_df' is not defined"
     ]
    }
   ],
   "source": [
    "# Model was not trained on: (which are the test data) \n",
    "# - individual 1\n",
    "# - individual 8\n",
    "# - individual 11\n",
    "\n",
    "test_df.iloc[2000]"
   ]
  },
  {
   "cell_type": "code",
   "execution_count": 2,
   "id": "68aa880d",
   "metadata": {},
   "outputs": [],
   "source": [
    "import pandas as pd\n",
    "import numpy as np\n",
    "import hdbscan\n",
    "import umap"
   ]
  },
  {
   "cell_type": "code",
   "execution_count": 3,
   "id": "4992a39c",
   "metadata": {},
   "outputs": [],
   "source": [
    "#!pip install hdbscan\n",
    "#!pip install umap-learn"
   ]
  },
  {
   "cell_type": "code",
   "execution_count": 4,
   "id": "ba4e24c0",
   "metadata": {},
   "outputs": [],
   "source": [
    "test_df = pd.read_csv(\"data/COMA_top_data/test_nasi_top_metadata.csv\")\n",
    "train_df = pd.read_csv(\"data/COMA_top_data/train_nasi_top_metadata.csv\")"
   ]
  },
  {
   "cell_type": "code",
   "execution_count": 5,
   "id": "7e3e36cb",
   "metadata": {},
   "outputs": [],
   "source": [
    "test_latents = np.load(\"data/new_dataset_data/test_newdataset_latents.npy\")\n",
    "train_latents = np.load(\"data/new_dataset_data/train_newdataset_latents.npy\")"
   ]
  },
  {
   "cell_type": "code",
   "execution_count": 6,
   "id": "7f4ec387",
   "metadata": {},
   "outputs": [
    {
     "name": "stdout",
     "output_type": "stream",
     "text": [
      "Test latents shape: (1849, 16), train latents shape: (4952, 16)\n"
     ]
    }
   ],
   "source": [
    "print(f\"Test latents shape: {test_latents.shape}, train latents shape: {train_latents.shape}\")"
   ]
  },
  {
   "cell_type": "code",
   "execution_count": 7,
   "id": "43eabee2",
   "metadata": {},
   "outputs": [
    {
     "name": "stdout",
     "output_type": "stream",
     "text": [
      "Test dataframe shape: (4596, 6), train dataframe shape: (15869, 6)\n"
     ]
    },
    {
     "ename": "AssertionError",
     "evalue": "",
     "output_type": "error",
     "traceback": [
      "\u001b[0;31m---------------------------------------------------------------------------\u001b[0m",
      "\u001b[0;31mAssertionError\u001b[0m                            Traceback (most recent call last)",
      "\u001b[0;32m/var/folders/pw/znmzx50x6gbgdxl84bpjc3sh0000gn/T/ipykernel_13587/4294053247.py\u001b[0m in \u001b[0;36m<module>\u001b[0;34m\u001b[0m\n\u001b[1;32m      1\u001b[0m \u001b[0mprint\u001b[0m\u001b[0;34m(\u001b[0m\u001b[0;34mf\"Test dataframe shape: {test_df.shape}, train dataframe shape: {train_df.shape}\"\u001b[0m\u001b[0;34m)\u001b[0m\u001b[0;34m\u001b[0m\u001b[0;34m\u001b[0m\u001b[0m\n\u001b[0;32m----> 2\u001b[0;31m \u001b[0;32massert\u001b[0m \u001b[0mtest_df\u001b[0m\u001b[0;34m.\u001b[0m\u001b[0mshape\u001b[0m\u001b[0;34m[\u001b[0m\u001b[0;36m0\u001b[0m\u001b[0;34m]\u001b[0m \u001b[0;34m==\u001b[0m \u001b[0mtest_latents\u001b[0m\u001b[0;34m.\u001b[0m\u001b[0mshape\u001b[0m\u001b[0;34m[\u001b[0m\u001b[0;36m0\u001b[0m\u001b[0;34m]\u001b[0m\u001b[0;34m\u001b[0m\u001b[0;34m\u001b[0m\u001b[0m\n\u001b[0m\u001b[1;32m      3\u001b[0m \u001b[0;32massert\u001b[0m \u001b[0mtrain_df\u001b[0m\u001b[0;34m.\u001b[0m\u001b[0mshape\u001b[0m\u001b[0;34m[\u001b[0m\u001b[0;36m0\u001b[0m\u001b[0;34m]\u001b[0m \u001b[0;34m==\u001b[0m \u001b[0mtrain_latents\u001b[0m\u001b[0;34m.\u001b[0m\u001b[0mshape\u001b[0m\u001b[0;34m[\u001b[0m\u001b[0;36m0\u001b[0m\u001b[0;34m]\u001b[0m\u001b[0;34m\u001b[0m\u001b[0;34m\u001b[0m\u001b[0m\n",
      "\u001b[0;31mAssertionError\u001b[0m: "
     ]
    }
   ],
   "source": [
    "print(f\"Test dataframe shape: {test_df.shape}, train dataframe shape: {train_df.shape}\")\n",
    "assert test_df.shape[0] == test_latents.shape[0]\n",
    "assert train_df.shape[0] == train_latents.shape[0]"
   ]
  },
  {
   "cell_type": "code",
   "execution_count": 8,
   "id": "7e9dcc5e",
   "metadata": {},
   "outputs": [
    {
     "data": {
      "text/html": [
       "<div>\n",
       "<style scoped>\n",
       "    .dataframe tbody tr th:only-of-type {\n",
       "        vertical-align: middle;\n",
       "    }\n",
       "\n",
       "    .dataframe tbody tr th {\n",
       "        vertical-align: top;\n",
       "    }\n",
       "\n",
       "    .dataframe thead th {\n",
       "        text-align: right;\n",
       "    }\n",
       "</style>\n",
       "<table border=\"1\" class=\"dataframe\">\n",
       "  <thead>\n",
       "    <tr style=\"text-align: right;\">\n",
       "      <th></th>\n",
       "      <th>Unnamed: 0</th>\n",
       "      <th>individual_id</th>\n",
       "      <th>expression_id</th>\n",
       "      <th>individual_name</th>\n",
       "      <th>expression_name</th>\n",
       "      <th>mesh_file_name</th>\n",
       "    </tr>\n",
       "  </thead>\n",
       "  <tbody>\n",
       "    <tr>\n",
       "      <th>5</th>\n",
       "      <td>5</td>\n",
       "      <td>2</td>\n",
       "      <td>0</td>\n",
       "      <td>FaceTalk_170731_00024_TA</td>\n",
       "      <td>bareteeth</td>\n",
       "      <td>bareteeth.000006.ply</td>\n",
       "    </tr>\n",
       "  </tbody>\n",
       "</table>\n",
       "</div>"
      ],
      "text/plain": [
       "   Unnamed: 0  individual_id  expression_id           individual_name  \\\n",
       "5           5              2              0  FaceTalk_170731_00024_TA   \n",
       "\n",
       "  expression_name        mesh_file_name  \n",
       "5       bareteeth  bareteeth.000006.ply  "
      ]
     },
     "execution_count": 8,
     "metadata": {},
     "output_type": "execute_result"
    }
   ],
   "source": [
    "test_df.iloc[[5]]"
   ]
  },
  {
   "cell_type": "code",
   "execution_count": 9,
   "id": "6b16c281",
   "metadata": {},
   "outputs": [],
   "source": [
    "#train_df.iloc[[5]]\n",
    "all_df = pd.concat([train_df, test_df])"
   ]
  },
  {
   "cell_type": "code",
   "execution_count": 10,
   "id": "fba136d9",
   "metadata": {},
   "outputs": [
    {
     "data": {
      "text/plain": [
       "(20465, 6)"
      ]
     },
     "execution_count": 10,
     "metadata": {},
     "output_type": "execute_result"
    }
   ],
   "source": [
    "all_df.shape"
   ]
  },
  {
   "cell_type": "code",
   "execution_count": 11,
   "id": "53db8daa",
   "metadata": {},
   "outputs": [],
   "source": [
    "#all_df.tail(10)"
   ]
  },
  {
   "cell_type": "code",
   "execution_count": 12,
   "id": "497f2755",
   "metadata": {},
   "outputs": [],
   "source": [
    "all_latents = np.vstack((train_latents, test_latents))"
   ]
  },
  {
   "cell_type": "code",
   "execution_count": 13,
   "id": "2419ac9d",
   "metadata": {},
   "outputs": [],
   "source": [
    "assert (all_latents[1] == train_latents[1]).all()"
   ]
  },
  {
   "cell_type": "markdown",
   "id": "9cb8b142",
   "metadata": {},
   "source": [
    "I do clustering here, instead of loading preprocessed data"
   ]
  },
  {
   "cell_type": "markdown",
   "id": "506f2720",
   "metadata": {},
   "source": [
    "Silhouette method for number of clusters"
   ]
  },
  {
   "cell_type": "code",
   "execution_count": 14,
   "id": "1c9a275b",
   "metadata": {},
   "outputs": [],
   "source": [
    "from sklearn.metrics import silhouette_score\n",
    "from sklearn.cluster import KMeans\n",
    "from tqdm import tqdm"
   ]
  },
  {
   "cell_type": "code",
   "execution_count": null,
   "id": "44710e24",
   "metadata": {},
   "outputs": [],
   "source": [
    "calculate_num_clusters = False\n",
    "if calculate_num_clusters:\n",
    "    sil = []\n",
    "    kmax = 150\n",
    "\n",
    "    Sum_of_squared_distances = [] #for elbow method\n",
    "    ks = range(2, kmax+1)\n",
    "    # dissimilarity would not be defined for a single cluster, thus, minimum number of clusters should be 2\n",
    "    for k in tqdm(ks):\n",
    "      kmeans = KMeans(n_clusters = k).fit(all_latents)\n",
    "      labels = kmeans.labels_\n",
    "      sil.append(silhouette_score(all_latents, labels, metric = 'euclidean'))\n",
    "      Sum_of_squared_distances.append(kmeans.inertia_) #for elbow method"
   ]
  },
  {
   "cell_type": "code",
   "execution_count": null,
   "id": "6256c54b",
   "metadata": {},
   "outputs": [],
   "source": [
    "max(labels)\n",
    "plt.plot(range(2, kmax+1),sil, scalex=True, scaley=True, data=None)\n",
    "plt.title(\"Silouhette score\")\n"
   ]
  },
  {
   "cell_type": "code",
   "execution_count": 130,
   "id": "5097eb79",
   "metadata": {},
   "outputs": [],
   "source": [
    "cluster = KMeans(n_clusters = 12).fit(all_latents)\n"
   ]
  },
  {
   "cell_type": "markdown",
   "id": "8c93ffec",
   "metadata": {},
   "source": [
    "Elbow method for number of clusters"
   ]
  },
  {
   "cell_type": "code",
   "execution_count": null,
   "id": "1b817c47",
   "metadata": {},
   "outputs": [],
   "source": [
    "len(Sum_of_squared_distances)"
   ]
  },
  {
   "cell_type": "code",
   "execution_count": null,
   "id": "f73f9986",
   "metadata": {},
   "outputs": [],
   "source": [
    "len(ks)"
   ]
  },
  {
   "cell_type": "code",
   "execution_count": null,
   "id": "15819d1b",
   "metadata": {},
   "outputs": [],
   "source": [
    "\n",
    "plt.plot(ks, Sum_of_squared_distances)\n",
    "#plt.plot(range(2, kmax+1),Sum_of_squared_distances, scalex=True, scaley=True, data=None)\n",
    "\n",
    "plt.xlabel(\"Values of K\") \n",
    "plt.ylabel(\"Sum of squared distances/Inertia\") \n",
    "plt.title(\"Elbow Method For Optimal k\")\n",
    "plt.show()"
   ]
  },
  {
   "cell_type": "code",
   "execution_count": null,
   "id": "6a7e1533",
   "metadata": {},
   "outputs": [],
   "source": []
  },
  {
   "cell_type": "code",
   "execution_count": 15,
   "id": "14c7acbc",
   "metadata": {},
   "outputs": [],
   "source": [
    "cluster = hdbscan.HDBSCAN(min_cluster_size=10,\n",
    "                          metric='euclidean',                      \n",
    "                          cluster_selection_method='eom').fit(all_latents)\n",
    "#for now it was trial and error, however the correct \"minclustersize\" can be calculated using some trials"
   ]
  },
  {
   "cell_type": "code",
   "execution_count": 16,
   "id": "db4934e0",
   "metadata": {},
   "outputs": [
    {
     "data": {
      "text/plain": [
       "108"
      ]
     },
     "execution_count": 16,
     "metadata": {},
     "output_type": "execute_result"
    }
   ],
   "source": [
    "max(cluster.labels_)"
   ]
  },
  {
   "cell_type": "code",
   "execution_count": null,
   "id": "f8d80125",
   "metadata": {},
   "outputs": [],
   "source": []
  },
  {
   "cell_type": "code",
   "execution_count": 17,
   "id": "8a8d8bea",
   "metadata": {},
   "outputs": [],
   "source": [
    "import matplotlib.pyplot as plt\n",
    "import umap.umap_ as umap\n",
    "def plotClusters(funClusters, latents):\n",
    "    umap_data = umap.UMAP(n_neighbors=100, n_components=2, min_dist=0.0, metric='cosine').fit_transform(latents)\n",
    "    result = pd.DataFrame(umap_data, columns=['x', 'y'])\n",
    "    result['labels'] = funClusters.labels_\n",
    "\n",
    "    # Visualize clusters\n",
    "    fig, ax = plt.subplots(figsize=(10, 7))\n",
    "    outliers = result.loc[result.labels == -1, :]\n",
    "    clustered = result.loc[result.labels != -1, :]\n",
    "    plt.scatter(outliers.x, outliers.y, color='#BDBDBD', s=0.05)\n",
    "    plt.scatter(clustered.x, clustered.y, c=clustered.labels, s=0.05, cmap='hsv_r')\n",
    "    plt.colorbar()\n",
    "    plt.title(\"Visualization of one instance of clustering through HDBSCAN\")"
   ]
  },
  {
   "cell_type": "code",
   "execution_count": 18,
   "id": "29cb1977",
   "metadata": {},
   "outputs": [
    {
     "data": {
      "image/png": "[encoded data removed]",
      "text/plain": [
       "<Figure size 720x504 with 2 Axes>"
      ]
     },
     "metadata": {
      "needs_background": "light"
     },
     "output_type": "display_data"
    }
   ],
   "source": [
    "plotClusters(cluster, all_latents)"
   ]
  },
  {
   "cell_type": "code",
   "execution_count": null,
   "id": "4ed84eab",
   "metadata": {},
   "outputs": [
    {
     "name": "stdout",
     "output_type": "stream",
     "text": [
      "ZERO\n",
      "ONE\n"
     ]
    }
   ],
   "source": [
    "import numpy as np\n",
    "from scipy import spatial\n",
    "import copy\n",
    "\n",
    "print(\"ZERO\")\n",
    "# test points\n",
    "pts = copy.deepcopy(all_latents)\n",
    "\n",
    "print(\"ONE\")\n",
    "# two points which are fruthest apart will occur as vertices of the convex hull\n",
    "candidates = pts[spatial.ConvexHull(pts).vertices]\n",
    "\n",
    "print(\"TWO\")\n",
    "# get distances between each pair of candidate points\n",
    "dist_mat = spatial.distance_matrix(candidates, candidates)\n",
    "\n",
    "print(\"THREE\")\n",
    "# get indices of candidates that are furthest apart\n",
    "i, j = np.unravel_index(dist_mat.argmax(), dist_mat.shape)\n",
    "\n",
    "print(candidates[i], candidates[j])"
   ]
  },
  {
   "cell_type": "code",
   "execution_count": null,
   "id": "a1ac2b50",
   "metadata": {},
   "outputs": [],
   "source": []
  }
 ],
 "metadata": {
  "kernelspec": {
   "display_name": "Python 3 (ipykernel)",
   "language": "python",
   "name": "python3"
  },
  "language_info": {
   "codemirror_mode": {
    "name": "ipython",
    "version": 3
   },
   "file_extension": ".py",
   "mimetype": "text/x-python",
   "name": "python",
   "nbconvert_exporter": "python",
   "pygments_lexer": "ipython3",
   "version": "3.8.10"
  }
 },
 "nbformat": 4,
 "nbformat_minor": 5
}
